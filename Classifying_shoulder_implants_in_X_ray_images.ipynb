{
  "nbformat": 4,
  "nbformat_minor": 0,
  "metadata": {
    "colab": {
      "name": "Classifying shoulder implants in X-ray images.ipynb",
      "provenance": [],
      "collapsed_sections": [
        "laXVrnz_fWAU",
        "8REnadrVMOO0",
        "p0O_PaJYfE0m",
        "ecxd8-9zY7hB",
        "I8kTw5vdfJp4",
        "Auyk-pqpeNTn",
        "v4kauaiYeWdv",
        "2ffkbIRWeeyG",
        "prqR3Uv3NTNh"
      ]
    },
    "kernelspec": {
      "name": "python3",
      "display_name": "Python 3"
    },
    "language_info": {
      "name": "python"
    },
    "accelerator": "GPU"
  },
  "cells": [
    {
      "cell_type": "markdown",
      "source": [
        "# ***Import Necessary Libraries***"
      ],
      "metadata": {
        "id": "tgwDPOtTfQU0"
      }
    },
    {
      "cell_type": "code",
      "execution_count": 22,
      "metadata": {
        "id": "KlobgVIWBCxr"
      },
      "outputs": [],
      "source": [
        "import os\n",
        "import cv2\n",
        "from google.colab.patches import cv2_imshow\n",
        "import numpy as np\n",
        "import random\n",
        "import tensorflow as tf\n",
        "import matplotlib.pyplot as plt\n",
        "import pandas as pd\n",
        "from tensorflow import keras\n",
        "from keras.preprocessing.image import ImageDataGenerator\n",
        "from keras import optimizers\n",
        "from tensorflow.keras.optimizers import Adam\n",
        "from keras.models import Sequential\n",
        "from keras.callbacks import EarlyStopping\n",
        "from keras.layers.convolutional import Conv2D\n",
        "from keras.layers.convolutional import MaxPooling2D\n",
        "from keras.layers import Dropout, Flatten, Activation, Dense, BatchNormalization\n",
        "from sklearn import metrics\n",
        "from sklearn.metrics import classification_report"
      ]
    },
    {
      "cell_type": "code",
      "source": [
        "from google.colab import drive\n",
        "drive.mount('/content/gdrive')"
      ],
      "metadata": {
        "colab": {
          "base_uri": "https://localhost:8080/"
        },
        "id": "XG7R5pCtBKiP",
        "outputId": "3462d280-2edb-43d8-96eb-15db6e4cec50"
      },
      "execution_count": 2,
      "outputs": [
        {
          "output_type": "stream",
          "name": "stdout",
          "text": [
            "Mounted at /content/gdrive\n"
          ]
        }
      ]
    },
    {
      "cell_type": "markdown",
      "source": [
        "# ***Read Images and labels into Workspace***"
      ],
      "metadata": {
        "id": "laXVrnz_fWAU"
      }
    },
    {
      "cell_type": "code",
      "source": [
        "img_size = 224"
      ],
      "metadata": {
        "id": "XtZLCEb3bzFP"
      },
      "execution_count": 3,
      "outputs": []
    },
    {
      "cell_type": "code",
      "source": [
        "def readImagesAndLabels(filePath):\n",
        "  images = []\n",
        "  labels = []\n",
        "  for image in os.listdir(filePath):\n",
        "    temp = cv2.imread(filePath + \"/\" + image)[...,::-1]  # Convert BGR to RGB format\n",
        "    resized_arr = cv2.resize(temp, (img_size, img_size)) # Reshaping images to preferred size\n",
        "    \n",
        "    labels.append(image.split('.')[0])\n",
        "    images.append(resized_arr)\n",
        "  return images, labels"
      ],
      "metadata": {
        "id": "Zd1yX-z_DNOM"
      },
      "execution_count": 4,
      "outputs": []
    },
    {
      "cell_type": "markdown",
      "source": [
        "# ***Split Data into Equal Ratios***"
      ],
      "metadata": {
        "id": "8REnadrVMOO0"
      }
    },
    {
      "cell_type": "code",
      "source": [
        "def splitData(images, labels, trainList):\n",
        "  X_train = []\n",
        "  y_train = []\n",
        "  X_test = []\n",
        "  y_test = []\n",
        "\n",
        "  combined = list(zip(images, labels))\n",
        "  random.shuffle(combined)\n",
        "  shuffledImages, shuffledLabels = zip(*combined)\n",
        "\n",
        "  for i in range(len(shuffledLabels)):\n",
        "    if shuffledLabels[i] == \"Cofield\":\n",
        "      if trainList[0] > 0:\n",
        "        X_train.append(shuffledImages[i])\n",
        "        y_train.append(shuffledLabels[i])\n",
        "        trainList[0] = trainList[0] - 1\n",
        "      else:\n",
        "        X_test.append(shuffledImages[i])\n",
        "        y_test.append(shuffledLabels[i])\n",
        "    elif shuffledLabels[i] == \"Depuy\":\n",
        "      if trainList[1] > 0:\n",
        "        X_train.append(shuffledImages[i])\n",
        "        y_train.append(shuffledLabels[i])\n",
        "        trainList[1] = trainList[1] - 1\n",
        "      else:\n",
        "        X_test.append(shuffledImages[i])\n",
        "        y_test.append(shuffledLabels[i])\n",
        "    elif shuffledLabels[i] == \"Tornier\":\n",
        "      if trainList[2] > 0:\n",
        "        X_train.append(shuffledImages[i])\n",
        "        y_train.append(shuffledLabels[i])\n",
        "        trainList[2] = trainList[2] - 1\n",
        "      else:\n",
        "        X_test.append(shuffledImages[i])\n",
        "        y_test.append(shuffledLabels[i])\n",
        "    else:\n",
        "      if trainList[3] > 0:\n",
        "        X_train.append(shuffledImages[i])\n",
        "        y_train.append(shuffledLabels[i])\n",
        "        trainList[3] = trainList[3] - 1\n",
        "      else:\n",
        "        X_test.append(shuffledImages[i])\n",
        "        y_test.append(shuffledLabels[i])\n",
        "  return X_train, y_train, X_test, y_test"
      ],
      "metadata": {
        "id": "z6VX4wp1krE2"
      },
      "execution_count": 5,
      "outputs": []
    },
    {
      "cell_type": "code",
      "source": [
        "def encodeLabels(labels):\n",
        "  labelDict = {\n",
        "    \"Cofield\" : [1, 0, 0, 0], \"Depuy\" : [0, 1, 0, 0], \"Tornier\" : [0, 0, 1, 0], \"Zimmer\" : [0, 0, 0, 1]\n",
        "    }\n",
        "  encoded = []\n",
        "  for label in labels:\n",
        "    if label == \"Cofield\":\n",
        "      encoded.append(labelDict[\"Cofield\"])\n",
        "    elif label == \"Depuy\":\n",
        "      encoded.append(labelDict[\"Depuy\"])\n",
        "    elif label == \"Tornier\":\n",
        "      encoded.append(labelDict[\"Tornier\"])\n",
        "    else:\n",
        "      encoded.append(labelDict[\"Zimmer\"])\n",
        "  return encoded"
      ],
      "metadata": {
        "id": "otqnqCOKRG-z"
      },
      "execution_count": 6,
      "outputs": []
    },
    {
      "cell_type": "markdown",
      "source": [
        "# ***Data Standardization***"
      ],
      "metadata": {
        "id": "p0O_PaJYfE0m"
      }
    },
    {
      "cell_type": "code",
      "source": [
        "def Standardize(X_train, X_test):\n",
        "  X_train = np.array(X_train).astype('float32')\n",
        "  X_test = np.array(X_test).astype('float32')\n",
        "\n",
        "  trainMean, trainStd = X_train.mean(), X_train.std()\n",
        "  testMean, testStd = X_test.mean(), X_test.std()\n",
        "\n",
        "\n",
        "  X_train = (X_train - trainMean) / trainStd \n",
        "  X_test = (X_test - testMean) / testStd\n",
        "\n",
        "  trainMean, trainStd = X_train.mean(), X_train.std()\n",
        "  testMean, testStd = X_test.mean(), X_test.std()\n",
        "  print(\"Train Mean: %.3f, Train Standard Deviation: %.3f\" % (trainMean, trainStd))\n",
        "  print(\"Test Mean: %.3f, Test Standard Deviation: %.3f\" % (testMean, testStd))\n",
        "  return X_train, X_test"
      ],
      "metadata": {
        "id": "O6e1xursXLoz"
      },
      "execution_count": 7,
      "outputs": []
    },
    {
      "cell_type": "markdown",
      "source": [
        "# ***Apply Augmentation to our Data***"
      ],
      "metadata": {
        "id": "ecxd8-9zY7hB"
      }
    },
    {
      "cell_type": "code",
      "source": [
        "def AugmentData(X_train, X_test, encodedTrainLabels, encodedTestLabels, model, epochs, batch_size, verbose, es):\n",
        "  datagen = ImageDataGenerator(\n",
        "      #rescale = 1. / 255,\n",
        "      shear_range = 0.2,\n",
        "      zoom_range = 0.2,\n",
        "      horizontal_flip = True,\n",
        "      fill_mode = 'nearest')\n",
        "\n",
        "  datagen.fit(X_train)\n",
        "  #datagen.fit(X_test)\n",
        "  # fits the model on batches with real-time data augmentation:\n",
        "  history = model.fit(datagen.flow(X_train, encodedTrainLabels, batch_size = batch_size),\n",
        "          validation_data = (X_test, encodedTestLabels),\n",
        "          steps_per_epoch = len(X_train) // 32, epochs = epochs, verbose = verbose, callbacks = [es])\n",
        "  return history"
      ],
      "metadata": {
        "id": "zsgLHOsDnlJk"
      },
      "execution_count": 8,
      "outputs": []
    },
    {
      "cell_type": "markdown",
      "source": [
        "# ***Building CNN Model***"
      ],
      "metadata": {
        "id": "I8kTw5vdfJp4"
      }
    },
    {
      "cell_type": "code",
      "source": [
        "def build_Model():\n",
        "    # Create model\n",
        "\n",
        "    model = Sequential()\n",
        "    \n",
        "    model.add(Conv2D(32, kernel_size = (3, 3), input_shape=(224, 224, 3), activation = 'relu'))\n",
        "    model.add(Conv2D(32, kernel_size = (3, 3), activation = 'relu'))\n",
        "    model.add(MaxPooling2D(2, 2))\n",
        "    model.add(Dropout(0.2))\n",
        "\n",
        "    #model.add(Conv2D(64, kernel_size = (3, 3), activation = 'relu'))\n",
        "    #model.add(Conv2D(64, kernel_size = (3, 3), activation = 'relu'))\n",
        "    #model.add(BatchNormalization())\n",
        "    #model.add(MaxPooling2D(2, 2))\n",
        "    #model.add(Dropout(0.2))\n",
        "\n",
        "    #model.add(Conv2D(128, kernel_size = (3, 3), activation = 'relu'))\n",
        "    #model.add(Conv2D(128, kernel_size = (3, 3), activation = 'relu'))\n",
        "    #model.add(BatchNormalization())\n",
        "    #model.add(MaxPooling2D(2, 2))\n",
        "    #model.add(Dropout(0.2))\n",
        "\n",
        "    model.add(Flatten())\n",
        "    model.add(Dense(256, activation = 'relu'))\n",
        "    model.add(Dense(4, activation = 'softmax'))\n",
        "    \n",
        "    # Compile the Model\n",
        "    #opti = Adam(learning_rate = 1e-4)\n",
        "\n",
        "    # Learning rate decay / scheduling\n",
        "    lr_schedule = keras.optimizers.schedules.ExponentialDecay(\n",
        "    initial_learning_rate = 1e-4,\n",
        "    decay_steps = 10000,\n",
        "    decay_rate = 0.9)\n",
        "    opti = keras.optimizers.SGD(learning_rate = lr_schedule, momentum = 0.9)\n",
        "    #opti = keras.optimizers.SGD(learning_rate = 0.01, momentum = 0.9)\n",
        "    \n",
        "    model.compile(loss = 'categorical_crossentropy', optimizer = opti, metrics=['accuracy'])\n",
        "    return model"
      ],
      "metadata": {
        "id": "BPV8jq2KUEDO"
      },
      "execution_count": 9,
      "outputs": []
    },
    {
      "cell_type": "markdown",
      "source": [
        "# ***Getting Predictions***"
      ],
      "metadata": {
        "id": "Auyk-pqpeNTn"
      }
    },
    {
      "cell_type": "code",
      "source": [
        "def predict(model, X_test):\n",
        "  predictions = model.predict(X_test)\n",
        "  pred = np.argmax(predictions, axis = 1)\n",
        "  TestLabels = np.argmax(encodedTestLabels, axis = 1)\n",
        "  print(classification_report(TestLabels, pred))"
      ],
      "metadata": {
        "id": "ni1JtD7_XqFK"
      },
      "execution_count": 10,
      "outputs": []
    },
    {
      "cell_type": "markdown",
      "source": [
        "# ***Visualizing the Outputs***"
      ],
      "metadata": {
        "id": "v4kauaiYeWdv"
      }
    },
    {
      "cell_type": "code",
      "source": [
        "def visualize(history):\n",
        "  pd.DataFrame(history.history).plot(figsize=(8, 5))\n",
        "  plt.grid(True)\n",
        "  plt.gca().set_ylim(0, 1.5)\n",
        "  plt.show()"
      ],
      "metadata": {
        "id": "2AlZQQ6li4Uj"
      },
      "execution_count": 11,
      "outputs": []
    },
    {
      "cell_type": "markdown",
      "source": [
        "# ***Evaluating our Model***"
      ],
      "metadata": {
        "id": "2ffkbIRWeeyG"
      }
    },
    {
      "cell_type": "code",
      "source": [
        "def evaluate(model, X_test, encodedTestLabels):\n",
        "  model.evaluate(X_test, encodedTestLabels)"
      ],
      "metadata": {
        "id": "keoDiXwbnOz8"
      },
      "execution_count": 12,
      "outputs": []
    },
    {
      "cell_type": "markdown",
      "source": [
        "# ***Functions Calling***"
      ],
      "metadata": {
        "id": "prqR3Uv3NTNh"
      }
    },
    {
      "cell_type": "code",
      "source": [
        "images, labels = readImagesAndLabels(\"/content/gdrive/MyDrive/data\")"
      ],
      "metadata": {
        "id": "JeyBvmMmyqCH"
      },
      "execution_count": 13,
      "outputs": []
    },
    {
      "cell_type": "code",
      "source": [
        "index = random.randint(0, len(images) + 1)\n",
        "cv2_imshow(images[index])\n",
        "print(labels[index])"
      ],
      "metadata": {
        "colab": {
          "base_uri": "https://localhost:8080/",
          "height": 258
        },
        "id": "4AvU-2k4Kumy",
        "outputId": "ef014267-6136-4ca2-aa93-494034c7d9a6"
      },
      "execution_count": 14,
      "outputs": [
        {
          "output_type": "display_data",
          "data": {
            "image/png": "[encoded data removed]",
            "text/plain": [
              "<PIL.Image.Image image mode=RGB size=224x224 at 0x7FDAE3EF4D10>"
            ]
          },
          "metadata": {}
        },
        {
          "output_type": "stream",
          "name": "stdout",
          "text": [
            "Depuy\n"
          ]
        }
      ]
    },
    {
      "cell_type": "code",
      "source": [
        "trainRatio = 0.75\n",
        "#testRatio = 0.25\n",
        "\n",
        "trainList = [int(labels.count(\"Cofield\") * trainRatio), int(labels.count(\"Depuy\") * trainRatio),\n",
        "              int(labels.count(\"Tornier\") * trainRatio), int(labels.count(\"Zimmer\") * trainRatio)]\n",
        "\n",
        "print(\"Length of Training Samples: {}\".format(sum(trainList)))\n",
        "print(\"Length of Testing Samples: {}\".format(len(images) - sum(trainList)))\n",
        "print(\"Count of each Class in Train: {}\".format(trainList))\n",
        "\n",
        "X_train, y_train, X_test, y_test = splitData(images, labels, trainList)\n",
        "print(len(X_train) + len(X_test))\n",
        "print(len(y_train) + len(y_test))\n",
        "print(len(X_train) == len(y_train))\n",
        "print(len(X_test) == len(y_test))"
      ],
      "metadata": {
        "colab": {
          "base_uri": "https://localhost:8080/"
        },
        "id": "oP6FsXyuKupi",
        "outputId": "ff414d12-7fc3-421f-fe57-e830c809f3a9"
      },
      "execution_count": 15,
      "outputs": [
        {
          "output_type": "stream",
          "name": "stdout",
          "text": [
            "Length of Training Samples: 446\n",
            "Length of Testing Samples: 151\n",
            "Count of each Class in Train: [62, 220, 53, 111]\n",
            "597\n",
            "597\n",
            "True\n",
            "True\n"
          ]
        }
      ]
    },
    {
      "cell_type": "code",
      "source": [
        "encodedTrainLabels = encodeLabels(y_train)\n",
        "encodedTestLabels = encodeLabels(y_test)"
      ],
      "metadata": {
        "id": "wY8mKhSwKur6"
      },
      "execution_count": 16,
      "outputs": []
    },
    {
      "cell_type": "code",
      "source": [
        "X_train = np.array(X_train).astype('float32')\n",
        "X_test = np.array(X_test).astype('float32')\n",
        "\n",
        "X_train.reshape(-1, img_size, img_size, 1)\n",
        "encodedTrainLabels = np.array(encodedTrainLabels)\n",
        "\n",
        "X_test.reshape(-1, img_size, img_size, 1)\n",
        "encodedTestLabels = np.array(encodedTestLabels)"
      ],
      "metadata": {
        "id": "DDbbbIOrKuzH"
      },
      "execution_count": 17,
      "outputs": []
    },
    {
      "cell_type": "code",
      "source": [
        "model = build_Model()\n",
        "model.summary()"
      ],
      "metadata": {
        "colab": {
          "base_uri": "https://localhost:8080/"
        },
        "id": "wMZNnxlzKu1s",
        "outputId": "1e063bd9-12ca-4250-e795-ef68b9ef614e"
      },
      "execution_count": 18,
      "outputs": [
        {
          "output_type": "stream",
          "name": "stdout",
          "text": [
            "Model: \"sequential\"\n",
            "_________________________________________________________________\n",
            " Layer (type)                Output Shape              Param #   \n",
            "=================================================================\n",
            " conv2d (Conv2D)             (None, 222, 222, 32)      896       \n",
            "                                                                 \n",
            " conv2d_1 (Conv2D)           (None, 220, 220, 32)      9248      \n",
            "                                                                 \n",
            " max_pooling2d (MaxPooling2D  (None, 110, 110, 32)     0         \n",
            " )                                                               \n",
            "                                                                 \n",
            " dropout (Dropout)           (None, 110, 110, 32)      0         \n",
            "                                                                 \n",
            " flatten (Flatten)           (None, 387200)            0         \n",
            "                                                                 \n",
            " dense (Dense)               (None, 256)               99123456  \n",
            "                                                                 \n",
            " dense_1 (Dense)             (None, 4)                 1028      \n",
            "                                                                 \n",
            "=================================================================\n",
            "Total params: 99,134,628\n",
            "Trainable params: 99,134,628\n",
            "Non-trainable params: 0\n",
            "_________________________________________________________________\n"
          ]
        }
      ]
    },
    {
      "cell_type": "markdown",
      "source": [
        "# ***Without Augmentation***"
      ],
      "metadata": {
        "id": "GbtTyrY7-5tL"
      }
    },
    {
      "cell_type": "code",
      "source": [
        "epochs = 20\n",
        "batch_size = 8\n",
        "verbose = 1\n",
        "\n",
        "# Early stopping\n",
        "es = EarlyStopping(monitor = 'val_loss', mode = 'min', verbose = verbose, patience = 9)\n",
        "\n",
        "X_train, X_test = Standardize(X_train, X_test)\n",
        "\n",
        "history = model.fit(X_train, encodedTrainLabels,\n",
        "                    validation_split = 0.2, epochs = epochs,\n",
        "                    batch_size = batch_size, verbose = verbose,\n",
        "                    callbacks = [es])"
      ],
      "metadata": {
        "id": "cdwk6f-xMdZt",
        "colab": {
          "base_uri": "https://localhost:8080/"
        },
        "outputId": "3a124d4b-0713-4900-89bc-1ff3f124528b"
      },
      "execution_count": 19,
      "outputs": [
        {
          "output_type": "stream",
          "name": "stdout",
          "text": [
            "Train Mean: 0.000, Train Standard Deviation: 1.000\n",
            "Test Mean: 0.000, Test Standard Deviation: 1.000\n",
            "Epoch 1/20\n",
            "45/45 [==============================] - 17s 110ms/step - loss: 1.3494 - accuracy: 0.4663 - val_loss: 1.1947 - val_accuracy: 0.5333\n",
            "Epoch 2/20\n",
            "45/45 [==============================] - 4s 89ms/step - loss: 1.2151 - accuracy: 0.4831 - val_loss: 1.2088 - val_accuracy: 0.5000\n",
            "Epoch 3/20\n",
            "45/45 [==============================] - 4s 88ms/step - loss: 1.1112 - accuracy: 0.5337 - val_loss: 1.1624 - val_accuracy: 0.5556\n",
            "Epoch 4/20\n",
            "45/45 [==============================] - 4s 89ms/step - loss: 1.0760 - accuracy: 0.5478 - val_loss: 1.1876 - val_accuracy: 0.5444\n",
            "Epoch 5/20\n",
            "45/45 [==============================] - 4s 89ms/step - loss: 1.0280 - accuracy: 0.5702 - val_loss: 1.2080 - val_accuracy: 0.4889\n",
            "Epoch 6/20\n",
            "45/45 [==============================] - 4s 94ms/step - loss: 0.9984 - accuracy: 0.5787 - val_loss: 1.2301 - val_accuracy: 0.5111\n",
            "Epoch 7/20\n",
            "45/45 [==============================] - 4s 89ms/step - loss: 1.0657 - accuracy: 0.5421 - val_loss: 1.2360 - val_accuracy: 0.4667\n",
            "Epoch 8/20\n",
            "45/45 [==============================] - 4s 89ms/step - loss: 0.9632 - accuracy: 0.5927 - val_loss: 1.2983 - val_accuracy: 0.5000\n",
            "Epoch 9/20\n",
            "45/45 [==============================] - 4s 88ms/step - loss: 0.9372 - accuracy: 0.5983 - val_loss: 1.2336 - val_accuracy: 0.5444\n",
            "Epoch 10/20\n",
            "45/45 [==============================] - 4s 92ms/step - loss: 0.8659 - accuracy: 0.6376 - val_loss: 1.2791 - val_accuracy: 0.5667\n",
            "Epoch 11/20\n",
            "45/45 [==============================] - 4s 89ms/step - loss: 0.8716 - accuracy: 0.6180 - val_loss: 1.2548 - val_accuracy: 0.5333\n",
            "Epoch 12/20\n",
            "45/45 [==============================] - 4s 89ms/step - loss: 0.7866 - accuracy: 0.6938 - val_loss: 1.4151 - val_accuracy: 0.5111\n",
            "Epoch 00012: early stopping\n"
          ]
        }
      ]
    },
    {
      "cell_type": "code",
      "source": [
        "visualize(history)"
      ],
      "metadata": {
        "id": "cOQUX5mCMdfD",
        "colab": {
          "base_uri": "https://localhost:8080/",
          "height": 320
        },
        "outputId": "f8fd03e6-535d-4b77-9cca-a08805150ff1"
      },
      "execution_count": 23,
      "outputs": [
        {
          "output_type": "display_data",
          "data": {
            "image/png": "[encoded data removed]",
            "text/plain": [
              "<Figure size 576x360 with 1 Axes>"
            ]
          },
          "metadata": {
            "needs_background": "light"
          }
        }
      ]
    },
    {
      "cell_type": "code",
      "source": [
        "evaluate(model, X_test, encodedTestLabels)"
      ],
      "metadata": {
        "id": "E05D-Fy5NPrO",
        "colab": {
          "base_uri": "https://localhost:8080/"
        },
        "outputId": "2fcc0470-d9c7-4e30-9dae-96e638e2800c"
      },
      "execution_count": 24,
      "outputs": [
        {
          "output_type": "stream",
          "name": "stdout",
          "text": [
            "5/5 [==============================] - 2s 176ms/step - loss: 1.3597 - accuracy: 0.4702\n"
          ]
        }
      ]
    },
    {
      "cell_type": "code",
      "source": [
        "predict(model, X_test)"
      ],
      "metadata": {
        "id": "kedtphYsMdcb",
        "colab": {
          "base_uri": "https://localhost:8080/"
        },
        "outputId": "ce499006-fdaf-47a1-dcea-4704045d12ac"
      },
      "execution_count": 25,
      "outputs": [
        {
          "output_type": "stream",
          "name": "stdout",
          "text": [
            "              precision    recall  f1-score   support\n",
            "\n",
            "           0       1.00      0.10      0.17        21\n",
            "           1       0.55      0.72      0.62        74\n",
            "           2       0.50      0.06      0.10        18\n",
            "           3       0.29      0.39      0.34        38\n",
            "\n",
            "    accuracy                           0.47       151\n",
            "   macro avg       0.59      0.32      0.31       151\n",
            "weighted avg       0.54      0.47      0.43       151\n",
            "\n"
          ]
        }
      ]
    },
    {
      "cell_type": "code",
      "source": [
        "#model.save(\"my_model.h5\")"
      ],
      "metadata": {
        "id": "MPxhlwmZKu4S"
      },
      "execution_count": 26,
      "outputs": []
    },
    {
      "cell_type": "code",
      "source": [
        ""
      ],
      "metadata": {
        "id": "Zt6a9j-kw-UK"
      },
      "execution_count": 26,
      "outputs": []
    },
    {
      "cell_type": "markdown",
      "source": [
        "# ***With Augmentation***"
      ],
      "metadata": {
        "id": "GGCdHmSy_S6k"
      }
    },
    {
      "cell_type": "code",
      "source": [
        "epochs = 20\n",
        "batch_size = 32\n",
        "verbose = 1\n",
        "\n",
        "# Early stopping\n",
        "es = EarlyStopping(monitor = 'val_loss', mode = 'min', verbose = verbose, patience = 9)\n",
        "\n",
        "history = AugmentData(X_train, X_test, encodedTrainLabels, encodedTestLabels, model, epochs, batch_size, verbose, es)"
      ],
      "metadata": {
        "colab": {
          "base_uri": "https://localhost:8080/"
        },
        "id": "GTUNCG3c6Umx",
        "outputId": "bb4ff265-9f59-47b2-8c6c-ffee03cdd89d"
      },
      "execution_count": 27,
      "outputs": [
        {
          "output_type": "stream",
          "name": "stdout",
          "text": [
            "Epoch 1/20\n",
            "13/13 [==============================] - 9s 662ms/step - loss: 1.2097 - accuracy: 0.5242 - val_loss: 1.2532 - val_accuracy: 0.5298\n",
            "Epoch 2/20\n",
            "13/13 [==============================] - 7s 482ms/step - loss: 1.1627 - accuracy: 0.5193 - val_loss: 1.2086 - val_accuracy: 0.4834\n",
            "Epoch 3/20\n",
            "13/13 [==============================] - 6s 423ms/step - loss: 1.1570 - accuracy: 0.5288 - val_loss: 1.1943 - val_accuracy: 0.4901\n",
            "Epoch 4/20\n",
            "13/13 [==============================] - 6s 423ms/step - loss: 1.0796 - accuracy: 0.5386 - val_loss: 1.1947 - val_accuracy: 0.4967\n",
            "Epoch 5/20\n",
            "13/13 [==============================] - 6s 421ms/step - loss: 1.1021 - accuracy: 0.5411 - val_loss: 1.1886 - val_accuracy: 0.5166\n",
            "Epoch 6/20\n",
            "13/13 [==============================] - 6s 421ms/step - loss: 1.0727 - accuracy: 0.5314 - val_loss: 1.1725 - val_accuracy: 0.5695\n",
            "Epoch 7/20\n",
            "13/13 [==============================] - 6s 422ms/step - loss: 1.0777 - accuracy: 0.5773 - val_loss: 1.1615 - val_accuracy: 0.4901\n",
            "Epoch 8/20\n",
            "13/13 [==============================] - 6s 423ms/step - loss: 1.0443 - accuracy: 0.5604 - val_loss: 1.1542 - val_accuracy: 0.5695\n",
            "Epoch 9/20\n",
            "13/13 [==============================] - 6s 422ms/step - loss: 1.0656 - accuracy: 0.5314 - val_loss: 1.1397 - val_accuracy: 0.5563\n",
            "Epoch 10/20\n",
            "13/13 [==============================] - 6s 423ms/step - loss: 1.0840 - accuracy: 0.5312 - val_loss: 1.1394 - val_accuracy: 0.5430\n",
            "Epoch 11/20\n",
            "13/13 [==============================] - 6s 423ms/step - loss: 1.0377 - accuracy: 0.5894 - val_loss: 1.1286 - val_accuracy: 0.5695\n",
            "Epoch 12/20\n",
            "13/13 [==============================] - 6s 421ms/step - loss: 1.0595 - accuracy: 0.5649 - val_loss: 1.1350 - val_accuracy: 0.5298\n",
            "Epoch 13/20\n",
            "13/13 [==============================] - 5s 415ms/step - loss: 1.0571 - accuracy: 0.5507 - val_loss: 1.1312 - val_accuracy: 0.5364\n",
            "Epoch 14/20\n",
            "13/13 [==============================] - 6s 424ms/step - loss: 1.0778 - accuracy: 0.5604 - val_loss: 1.1475 - val_accuracy: 0.5430\n",
            "Epoch 15/20\n",
            "13/13 [==============================] - 6s 421ms/step - loss: 1.0143 - accuracy: 0.5749 - val_loss: 1.1276 - val_accuracy: 0.5497\n",
            "Epoch 16/20\n",
            "13/13 [==============================] - 6s 418ms/step - loss: 1.0264 - accuracy: 0.5773 - val_loss: 1.1329 - val_accuracy: 0.5033\n",
            "Epoch 17/20\n",
            "13/13 [==============================] - 6s 428ms/step - loss: 1.0512 - accuracy: 0.5725 - val_loss: 1.1348 - val_accuracy: 0.5430\n",
            "Epoch 18/20\n",
            "13/13 [==============================] - 6s 420ms/step - loss: 1.0556 - accuracy: 0.5676 - val_loss: 1.1291 - val_accuracy: 0.5430\n",
            "Epoch 19/20\n",
            "13/13 [==============================] - 6s 420ms/step - loss: 1.0256 - accuracy: 0.5918 - val_loss: 1.1361 - val_accuracy: 0.5364\n",
            "Epoch 20/20\n",
            "13/13 [==============================] - 6s 421ms/step - loss: 1.0356 - accuracy: 0.5459 - val_loss: 1.1173 - val_accuracy: 0.5563\n"
          ]
        }
      ]
    },
    {
      "cell_type": "code",
      "source": [
        "visualize(history)"
      ],
      "metadata": {
        "colab": {
          "base_uri": "https://localhost:8080/",
          "height": 320
        },
        "id": "hgPK8fv7-xvc",
        "outputId": "22456470-5fb1-4059-9c78-34a1f2dd86d8"
      },
      "execution_count": 28,
      "outputs": [
        {
          "output_type": "display_data",
          "data": {
            "image/png": "[encoded data removed]",
            "text/plain": [
              "<Figure size 576x360 with 1 Axes>"
            ]
          },
          "metadata": {
            "needs_background": "light"
          }
        }
      ]
    },
    {
      "cell_type": "code",
      "source": [
        "evaluate(model, X_test, encodedTestLabels)"
      ],
      "metadata": {
        "colab": {
          "base_uri": "https://localhost:8080/"
        },
        "id": "qXUTWkYy-z9M",
        "outputId": "d271554e-1a9b-45d9-dcf3-f1ebb0b4df34"
      },
      "execution_count": 29,
      "outputs": [
        {
          "output_type": "stream",
          "name": "stdout",
          "text": [
            "5/5 [==============================] - 0s 52ms/step - loss: 1.1173 - accuracy: 0.5563\n"
          ]
        }
      ]
    },
    {
      "cell_type": "code",
      "source": [
        "predict(model, X_test)"
      ],
      "metadata": {
        "colab": {
          "base_uri": "https://localhost:8080/"
        },
        "id": "BF8nMLlk-u5N",
        "outputId": "f77f3b97-ea79-4d14-f960-c0b458f2d0e3"
      },
      "execution_count": 30,
      "outputs": [
        {
          "output_type": "stream",
          "name": "stdout",
          "text": [
            "              precision    recall  f1-score   support\n",
            "\n",
            "           0       0.85      0.52      0.65        21\n",
            "           1       0.56      0.86      0.68        74\n",
            "           2       0.20      0.06      0.09        18\n",
            "           3       0.42      0.21      0.28        38\n",
            "\n",
            "    accuracy                           0.56       151\n",
            "   macro avg       0.51      0.41      0.42       151\n",
            "weighted avg       0.52      0.56      0.50       151\n",
            "\n"
          ]
        }
      ]
    },
    {
      "cell_type": "code",
      "source": [
        "#model.save(\"my_model.h5\")"
      ],
      "metadata": {
        "id": "_xCKZFnm_Akz"
      },
      "execution_count": 31,
      "outputs": []
    }
  ]
}